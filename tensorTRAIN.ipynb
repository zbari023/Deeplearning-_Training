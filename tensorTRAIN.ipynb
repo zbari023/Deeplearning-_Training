{
 "cells": [
  {
   "cell_type": "code",
   "execution_count": 14,
   "id": "3744c563",
   "metadata": {
    "tags": []
   },
   "outputs": [],
   "source": [
    "import tensorflow as tf\n",
    "import numpy as np"
   ]
  },
  {
   "cell_type": "code",
   "execution_count": 2,
   "id": "1e0d9f3d",
   "metadata": {
    "tags": []
   },
   "outputs": [
    {
     "name": "stdout",
     "output_type": "stream",
     "text": [
      "2.15.0\n"
     ]
    }
   ],
   "source": [
    "print(tf.__version__)"
   ]
  },
  {
   "cell_type": "markdown",
   "id": "613b513b",
   "metadata": {},
   "source": [
    "Bilding a simple preceptron "
   ]
  },
  {
   "cell_type": "code",
   "execution_count": 17,
   "id": "c152e15c",
   "metadata": {
    "tags": []
   },
   "outputs": [
    {
     "name": "stdout",
     "output_type": "stream",
     "text": [
      "<class 'tensorflow.python.framework.ops.EagerTensor'>\n"
     ]
    }
   ],
   "source": [
    "x1 = tf.constant(2)\n",
    "x2 = tf.constant(3)\n",
    "y = tf.add(x1,x2)\n",
    "print(type(y))\n"
   ]
  },
  {
   "cell_type": "code",
   "execution_count": 19,
   "id": "d8571f2d",
   "metadata": {
    "tags": []
   },
   "outputs": [
    {
     "name": "stdout",
     "output_type": "stream",
     "text": [
      "<class 'numpy.int32'>\n"
     ]
    }
   ],
   "source": [
    "print(type(y.numpy()))"
   ]
  },
  {
   "cell_type": "markdown",
   "id": "12bd3021-92e5-4db2-a506-dde7fe6ebc57",
   "metadata": {},
   "source": [
    "Bilding a new advanced preceptron"
   ]
  },
  {
   "cell_type": "code",
   "execution_count": null,
   "id": "78be4d4e-e421-4d2d-ae6c-3bf91c56e496",
   "metadata": {
    "tags": []
   },
   "outputs": [],
   "source": []
  },
  {
   "cell_type": "code",
   "execution_count": 32,
   "id": "48fa45d5-eb91-4062-853d-2250ecae882f",
   "metadata": {
    "tags": []
   },
   "outputs": [
    {
     "name": "stdout",
     "output_type": "stream",
     "text": [
      "[[51.63986277 57.06675869  2.84742265 17.15216562 68.52769817]\n",
      " [83.38968626 30.69662197 89.36130797 72.15438618 18.99389542]\n",
      " [55.42275911 35.2131954  18.18924027 78.56017619 96.54832224]\n",
      " [23.23536618  8.35614337 60.35484223 72.89927573 27.62388285]\n",
      " [68.53063288 51.78674742  4.84845374 13.78692376 18.69674261]]\n",
      "[[99.43179012]\n",
      " [52.06653967]\n",
      " [57.87895355]\n",
      " [73.48190583]\n",
      " [54.19617722]]\n"
     ]
    }
   ],
   "source": [
    "np.random.seed(101) # um die gleiche random Zahlen zu generieren\n",
    "tf.random.set_seed(101)\n",
    "mt_a = np.random.uniform(0,100,(5,5))  # Erstellen eines MX \n",
    "print(mt_a)\n",
    "mt_b = np.random.uniform(0,100,(5,1))\n",
    "print(mt_b)\n"
   ]
  },
  {
   "cell_type": "code",
   "execution_count": 48,
   "id": "5cc8af77-4572-483f-9b88-ff2814cab820",
   "metadata": {
    "tags": []
   },
   "outputs": [],
   "source": [
    "# Erstellen ein Palceholder für die MXen  \n",
    "a = tf.Variable(12, dtype=tf.float32) \n",
    "b = tf.Variable(mt, dtype=tf.float32)\n",
    "# OP ,einmal add und einmal mul\n",
    "add_op = tf.add(a, b)\n",
    "mult_op = tf.multiply(a, b)"
   ]
  },
  {
   "cell_type": "code",
   "execution_count": 53,
   "id": "d32610c9-3882-4388-9aff-ee0b7354ed4b",
   "metadata": {
    "tags": []
   },
   "outputs": [
    {
     "name": "stdout",
     "output_type": "stream",
     "text": [
      "Addition:\n",
      "[[151.07166  156.49855  102.27921  116.58396  167.95949 ]\n",
      " [135.45622   82.76316  141.42784  124.22093   71.06043 ]\n",
      " [113.30171   93.09215   76.06819  136.43912  154.42728 ]\n",
      " [ 96.71727   81.83804  133.83675  146.38118  101.10579 ]\n",
      " [122.72681  105.982925  59.044632  67.9831    72.89292 ]]\n",
      "\n",
      "Multiplication:\n",
      "[[5134.644   5674.25     283.12433 1705.4707  6813.8315 ]\n",
      " [4341.8125  1598.267   4652.734   3756.8293   988.94635]\n",
      " [3207.8113  2038.1029  1052.7742  4546.9805  5588.1157 ]\n",
      " [1707.379    614.02527 4434.989   5356.7773  2029.8555 ]\n",
      " [3714.0984  2806.6438   262.76764  747.19855 1013.292  ]]\n"
     ]
    }
   ],
   "source": [
    "# print der Ergebnis\n",
    "print(\"Addition:\")\n",
    "print(add_op.numpy())\n",
    "print(\"\\nMultiplication:\")\n",
    "print(mult_op.numpy())"
   ]
  },
  {
   "cell_type": "code",
   "execution_count": null,
   "id": "b5f19657-cac1-4206-a690-7f199d1aa662",
   "metadata": {},
   "outputs": [],
   "source": []
  }
 ],
 "metadata": {
  "kernelspec": {
   "display_name": "Python 3 (ipykernel)",
   "language": "python",
   "name": "python3"
  },
  "language_info": {
   "codemirror_mode": {
    "name": "ipython",
    "version": 3
   },
   "file_extension": ".py",
   "mimetype": "text/x-python",
   "name": "python",
   "nbconvert_exporter": "python",
   "pygments_lexer": "ipython3",
   "version": "3.11.4"
  }
 },
 "nbformat": 4,
 "nbformat_minor": 5
}
