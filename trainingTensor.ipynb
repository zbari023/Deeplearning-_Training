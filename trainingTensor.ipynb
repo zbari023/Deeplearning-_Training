{
 "cells": [
  {
   "cell_type": "code",
   "execution_count": 81,
   "id": "829abc10",
   "metadata": {},
   "outputs": [
    {
     "name": "stdout",
     "output_type": "stream",
     "text": [
      "[[1. 2. 3.]\n",
      " [4. 5. 6.]\n",
      " [7. 8. 9.]]\n",
      "[1, 2, 3, 4, 5, 6]\n"
     ]
    }
   ],
   "source": [
    "import numpy as np  # Aufrufen des numpy Bibliothek und als np abkurzen\n",
    "li = [1,2,3,4,5,6]  # ist eine List in py\n",
    "# Erstellung einer Array in py mir beliebige Dimensionen und je nach der Type von integer oder float \n",
    "arr = np.array([[1,2,3],[4,5,6],[7,8,9]],dtype=float)\n",
    "print(arr)\n",
    "print(li)"
   ]
  },
  {
   "cell_type": "code",
   "execution_count": null,
   "id": "1fadc264",
   "metadata": {},
   "outputs": [],
   "source": []
  },
  {
   "cell_type": "code",
   "execution_count": 5,
   "id": "9bb56153",
   "metadata": {},
   "outputs": [
    {
     "name": "stdout",
     "output_type": "stream",
     "text": [
      "[ 0  1  2  3  4  5  6  7  8  9 10]\n"
     ]
    }
   ],
   "source": [
    "# Erstellung einer Arrray in py mit Zahlen mittels arange-func\n",
    "print(np.arange(0,11,1))  # (von,bis,schrittweise)"
   ]
  },
  {
   "cell_type": "code",
   "execution_count": 82,
   "id": "d223f633",
   "metadata": {},
   "outputs": [
    {
     "name": "stdout",
     "output_type": "stream",
     "text": [
      "[[0. 0. 0. 0. 0. 0. 0. 0. 0. 0.]\n",
      " [0. 0. 0. 0. 0. 0. 0. 0. 0. 0.]\n",
      " [0. 0. 0. 0. 0. 0. 0. 0. 0. 0.]\n",
      " [0. 0. 0. 0. 0. 0. 0. 0. 0. 0.]\n",
      " [0. 0. 0. 0. 0. 0. 0. 0. 0. 0.]\n",
      " [0. 0. 0. 0. 0. 0. 0. 0. 0. 0.]\n",
      " [0. 0. 0. 0. 0. 0. 0. 0. 0. 0.]\n",
      " [0. 0. 0. 0. 0. 0. 0. 0. 0. 0.]\n",
      " [0. 0. 0. 0. 0. 0. 0. 0. 0. 0.]\n",
      " [0. 0. 0. 0. 0. 0. 0. 0. 0. 0.]]\n",
      "[[1 1 1 1 1]\n",
      " [1 1 1 1 1]\n",
      " [1 1 1 1 1]\n",
      " [1 1 1 1 1]\n",
      " [1 1 1 1 1]]\n",
      "0.0\n",
      "1\n",
      "<class 'numpy.ndarray'>\n"
     ]
    }
   ],
   "source": [
    "mao = np.ones((5,5),dtype=int) # Einsen_matrix\n",
    "maz = np.zeros((10,10),dtype=float) # Nullen_matrix\n",
    "print(maz)\n",
    "print(mao)\n",
    "print(maz[0,5]) # position des Elementes aufrufen\n",
    "print(mao[0,4])\n",
    "print(type(maz))"
   ]
  },
  {
   "cell_type": "code",
   "execution_count": 84,
   "id": "4258547f",
   "metadata": {},
   "outputs": [
    {
     "name": "stdout",
     "output_type": "stream",
     "text": [
      "[[1 0 1]\n",
      " [0 1 0]\n",
      " [0 1 0]]\n"
     ]
    }
   ],
   "source": [
    "#Ertsellung eines Matrix mit random_Zahlen \n",
    "x = np.random.randint(0,2,(3,3)) # (von,bis,grösse des matrix(row,col))\n",
    "print(x)"
   ]
  },
  {
   "cell_type": "code",
   "execution_count": 87,
   "id": "717ea25d",
   "metadata": {},
   "outputs": [
    {
     "name": "stdout",
     "output_type": "stream",
     "text": [
      "[89 65 94  3 68  5 62 63 60 77]\n",
      "3\n",
      "[ 1  3  5  7 10]\n"
     ]
    }
   ],
   "source": [
    "# np.random.seed(200) to make the same genrated random_numbers\n",
    "#Ertsellung eines 1.array mit random_Zahlen \n",
    "i = np.random.randint(1,100,10) # (von,bis,grösse-->wie viel element in der array(n))\n",
    "print(i)\n",
    "print(i.argmin())\n",
    "y= np.linspace(1,10,5,dtype=int)\n",
    "print(y)"
   ]
  },
  {
   "cell_type": "code",
   "execution_count": 64,
   "id": "6d2e4a7f",
   "metadata": {},
   "outputs": [
    {
     "name": "stdout",
     "output_type": "stream",
     "text": [
      "[[46 83 39 38 28]\n",
      " [93 44 47 34 46]]\n"
     ]
    }
   ],
   "source": [
    "print(i.reshape(2,5))"
   ]
  },
  {
   "cell_type": "code",
   "execution_count": null,
   "id": "24216306",
   "metadata": {},
   "outputs": [],
   "source": []
  }
 ],
 "metadata": {
  "kernelspec": {
   "display_name": "Python 3 (ipykernel)",
   "language": "python",
   "name": "python3"
  },
  "language_info": {
   "codemirror_mode": {
    "name": "ipython",
    "version": 3
   },
   "file_extension": ".py",
   "mimetype": "text/x-python",
   "name": "python",
   "nbconvert_exporter": "python",
   "pygments_lexer": "ipython3",
   "version": "3.11.4"
  }
 },
 "nbformat": 4,
 "nbformat_minor": 5
}
